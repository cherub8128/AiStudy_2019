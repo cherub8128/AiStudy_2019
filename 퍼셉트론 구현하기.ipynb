{
 "cells": [
  {
   "cell_type": "markdown",
   "metadata": {},
   "source": [
    "## 퍼셉트론 구현하기\n",
    "    \n",
    "   아래와 같은 계단함수를 사용하여 퍼셉트론을 구현한다."
   ]
  },
  {
   "cell_type": "code",
   "execution_count": 37,
   "metadata": {},
   "outputs": [
    {
     "data": {
      "image/png": "[encoded data removed]",
      "text/plain": [
       "<Figure size 432x288 with 1 Axes>"
      ]
     },
     "metadata": {
      "needs_background": "light"
     },
     "output_type": "display_data"
    }
   ],
   "source": [
    "import numpy as np\n",
    "import matplotlib.pyplot as plt\n",
    "plt.plot([0,1],[1,1],'b-',[-1,0],[-1,-1],'b-')\n",
    "plt.grid()\n",
    "plt.axhline(ls='-', lw=1)\n",
    "plt.axvline(ls='-', lw=1)\n",
    "plt.show()"
   ]
  },
  {
   "cell_type": "markdown",
   "metadata": {},
   "source": [
    "### 퍼셉트론의 알고리즘\n",
    "\n",
    "고양이와 개를 구분하는 것처럼 두가지로 분류해 내는 작업을 할 때 퍼셉트론을 사용할 수 있다.  \n",
    "주어진 자료 값의 한 개는 $x_0, x_1, x_2, ..., x_n$ 이 자료 값이 어느쪽에 속하는지 말하는 $y$ 값으로 이루어진다.\n",
    "\n",
    "* 만약에 자료 형태가 $x_0, x_1$ 로 두 개만 있다면 $x_0$는 $x$좌표, $x_1$는 $y$좌표로 하여 좌표 평면의 점들로 표현 가능하다.\n",
    "\n",
    "자료는 보통 여러개 있기 때문에 그럴 때는 다음처럼 윗첨자를 써서 표현한다.  \n",
    "   - 1번째 자료 : $x^{(1)}_0, x^{(1)}_1, x^{(1)}_2, ..., x^{(1)}_n, y^{(1)}$\n",
    "   - 2번째 자료 : $x^{(2)}_0, x^{(2)}_1, x^{(2)}_2, ..., x^{(2)}_n, y^{(2)}$\n",
    "   ...\n",
    "\n",
    "1. 계단 함수를 이용해 인공뉴런을 만들어 자료 값을 처리하는 방법\n",
    "\n",
    "  $w_0 x^{(i)}_0 + w_1 x^{(i)}_1 + w_2 x^{(i)}_2 + ...+ w_n x^{(i)}_n - b > 0$ 이면 $y = 1$\n",
    "\n",
    "  $x^{(i)}_0, x^{(i)}_1, x^{(i)}_2, ..., x^{(i)}_n - b > 0$ 이면 $y = -1$ \n",
    "\n",
    "위와 같이 계산하여 판단하는데 각각의 입력값에 곱해지는 값 $w_0, w_1, w_2, ... ,w_n$ 을 가중치라고 한다.  \n",
    "가중치를 곱하는 이유는 입력값 $x_0, x_1, x_2, ... ,x_n$들은 하나의 특성값들이고 각각의 특성값의 중요도나 적절한 수치가  \n",
    "다르기 때문이다. 일종의 각각의 값으로 전체 특성값을 대표할 수 있는 대표값을 찾아내는 것과 비슷하다고 보면 된다.\n",
    "\n",
    "예를 들면 고양이와 강아지를 구분하는 값으로 $x_0$은 눈동자의 형태를 수치화한 값 $x_1$ 꼬리모양을 수치화한 값이라 하면  \n",
    "어떤 특성값이 더 정확히 맞아야하고 어떤 수치와 가까워야하는지가 모두 다르므로 가중치를 곱해서 최종 수치를 결정해야 한다.\n",
    "우리는 이 가중치 값을 직접 연구해서 찾아내는 것이 아니라 데이터를 주고 컴퓨터가 학습하여 찾아내도록 하고자 한다.\n",
    "\n",
    "나중에는 입력값도 우리가 직접 주는 것이 아니라 인공지능이 직접 사진을 보고 스스로 뽑아내게 한다든지 그런 작업을 할 것이다.\n",
    "\n",
    "\n",
    "2. 알고리즘  \n",
    "      (1) 가중치를 랜덤하게 초기화 한다.\n",
    "      \n",
    "      (2) 주어진 자료와 예측한 가중치를 이용해 판단해본다. 판단한 결과를 $\\hat{y}$이라 쓴다.\n",
    "      \n",
    "      (3) 판단한 결과($\\hat{y}$)와 실제 정답($y$)하고 비교하여 맞았을 경우 가중치를 바꾸지 않고, 틀렸을 경우 가중치를 조정한다.\n",
    "      \n",
    "      (4) 가중치를 조정하기 위해 더하는 값은 아래와 같다. 오차에 자료값을 곱하여 처음 가중치에 더하는데 자료값이 너무 크면 가중치가 크게 바뀌므로 적당히 바뀌게 하도록 에타$\\eta$ 라는 수치를 곱하여 더하는 값을 줄여준다.\n",
    "      \n",
    " $\\Delta w_j = \\eta(y^{(i)}_j-\\hat{y}^{(i)}_j)x^{(i)}_j$ \n",
    "     \n",
    " $w_j^{'} = w_j +\\Delta w_j$ \n",
    "     \n",
    "     (5) 이렇게 바뀐 $w_j^{'}(j=0,...n)$로 다시 (2)~(4)과정을 반복하면서 가중치를 보정하고 완벽하게 정답이 될 때까지 반복하게 한다."
   ]
  }
 ],
 "metadata": {
  "kernelspec": {
   "display_name": "Python 3",
   "language": "python",
   "name": "python3"
  },
  "language_info": {
   "codemirror_mode": {
    "name": "ipython",
    "version": 3
   },
   "file_extension": ".py",
   "mimetype": "text/x-python",
   "name": "python",
   "nbconvert_exporter": "python",
   "pygments_lexer": "ipython3",
   "version": "3.7.3"
  }
 },
 "nbformat": 4,
 "nbformat_minor": 2
}
