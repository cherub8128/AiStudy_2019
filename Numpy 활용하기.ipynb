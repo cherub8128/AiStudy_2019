{
 "cells": [
  {
   "cell_type": "markdown",
   "metadata": {},
   "source": [
    "## NumPy 활용하기\n",
    "### 1. NumPy 의 장점\n",
    "    1) 선형 대수(행렬 연산 등) 지원\n",
    "    2) 수학 계산 속도 최적화\n",
    "    3) Broadcast 기능\n",
    "    4) 난수 기능\n",
    "    5) C/C++, Fortran 통합도구"
   ]
  },
  {
   "cell_type": "code",
   "execution_count": 1,
   "metadata": {},
   "outputs": [
    {
     "data": {
      "text/plain": [
       "'1.16.4'"
      ]
     },
     "execution_count": 1,
     "metadata": {},
     "output_type": "execute_result"
    }
   ],
   "source": [
    "import numpy as np  #넘파이를 사용하기 위한 모듈 임포트, as를 사용하여 사용할 때 이름을 간소화 할 수 있다.\n",
    "np.__version__ # 'np.' 으로 넘파이모듈 안의 클래스와 함수에 접근한다. 넘파이 버전 확인하는 함수."
   ]
  },
  {
   "cell_type": "markdown",
   "metadata": {},
   "source": [
    "#### 수학 계산 속도의 최적화 예시"
   ]
  },
  {
   "cell_type": "code",
   "execution_count": 2,
   "metadata": {},
   "outputs": [],
   "source": [
    "import numpy as np\n",
    "n = 10000000\n",
    "w = []                # 파이썬의 기본 list type\n",
    "x = []\n",
    "for i in range(n):     #range(n): n 미만의 양의 정수 배열을 생성한다.\n",
    "    w.append(i*0.00001)\n",
    "    x.append(i*0.00002)\n",
    "\n",
    "w_numpy = np.array(w)  # 넘파이의 행렬과 관련된 ndarray type\n",
    "x_numpy = np.array(x)"
   ]
  },
  {
   "cell_type": "code",
   "execution_count": 3,
   "metadata": {},
   "outputs": [
    {
     "name": "stdout",
     "output_type": "stream",
     "text": [
      "1.96 s ± 327 ms per loop (mean ± std. dev. of 7 runs, 1 loop each)\n"
     ]
    }
   ],
   "source": [
    "%%timeit   \n",
    "total = 0\n",
    "for i in range(n):\n",
    "    total += w[i]*x[i]\n",
    "\"\"\"    \n",
    "주피터 노트북에서는 셀의 실행 순서에 따라 구문을 처리한다. 앞쪽 셀을 먼저 실행시키면 앞쪽의 내용이 사용된다.\n",
    "'%%'는 주피터 노트북의 매직 커맨드를 실행한다. \n",
    "%%은 반드시 맨 앞에 쓰여야 한다. 주석도 안된다.\n",
    "%%timeit은 셀을 반복실행하여 실행속도를 평균내어 준다.\n",
    "\"\"\""
   ]
  },
  {
   "cell_type": "code",
   "execution_count": 4,
   "metadata": {},
   "outputs": [
    {
     "name": "stdout",
     "output_type": "stream",
     "text": [
      "17.5 ms ± 2.19 ms per loop (mean ± std. dev. of 7 runs, 100 loops each)\n"
     ]
    }
   ],
   "source": [
    "%%timeit\n",
    "total_numpy = np.dot(w_numpy, x_numpy) \n",
    "\"\"\"\n",
    "np.dot은 벡터의 내적을 의미한다. 각각의 n째항을 곱하여 더하는 연산이다.\n",
    "np.dot대신 @를 사용하거나 w_numpy@x_numpy\n",
    "w_numpy.dot(x_numpy) 처럼 사용가능하다.\n",
    "\"\"\""
   ]
  },
  {
   "cell_type": "markdown",
   "metadata": {},
   "source": [
    "#### ndarray : NumPy의 배열\n",
    "    numpy에서 배열은 파이썬에서 사용되는 기본 배열과 조금 다르다.\n",
    "    행렬과 같은 형태로 제공되고 행렬이 가진 속성 데이터도 출력 할 수 있다.\n",
    "- shape : 행렬의 모양, 항의 개수가 행렬의 차원이 된다. ex) (2,2) 2차 정사각행렬\n",
    "- size : 행렬 안에 들어가는 모든 데이터의 개수. 즉 shape의 각 항의 곱이랑 같다.\n",
    "- dtype : 행렬 안에 들어가는 데이터의 타입(b, i8, u8,f8, c16(복소수 부동소수점), O, S24, U24 등등)\n",
    "- ndim : 행렬의 차원, 정의된 축(axis)의 개수"
   ]
  },
  {
   "cell_type": "code",
   "execution_count": 5,
   "metadata": {},
   "outputs": [],
   "source": [
    "def aprint(a):  #파이썬의 함수의 정의 def 함수명(변수):\n",
    "    print(\"type:{}, dtype:{}\".format(type(a), a.dtype))\n",
    "    print(\"shape:{}, ndim:{}, size:{}\".format(a.shape, a.ndim, a.size))\n",
    "    print(a)"
   ]
  },
  {
   "cell_type": "code",
   "execution_count": 6,
   "metadata": {},
   "outputs": [
    {
     "name": "stdout",
     "output_type": "stream",
     "text": [
      "type:<class 'numpy.ndarray'>, dtype:int32\n",
      "shape:(12,), ndim:1, size:12\n",
      "[ 0  1  2  3  4  5  6  7  8  9 10 11]\n",
      "type:<class 'numpy.ndarray'>, dtype:int32\n",
      "shape:(2, 4), ndim:2, size:8\n",
      "[[1 2 3 4]\n",
      " [5 6 7 8]]\n",
      "type:<class 'numpy.ndarray'>, dtype:int32\n",
      "shape:(4,), ndim:1, size:4\n",
      "[1 3 5 7]\n"
     ]
    }
   ],
   "source": [
    "a = np.arange(12)  \n",
    "\"\"\"\n",
    "파이썬에서 1차원 배열 생성하기 arange는 range와 다르게 ndarray로 바로 생성해 줌.\n",
    "arange(시작, 끝(미만), 단계, dtype=데이터 타입)\n",
    "linspace(시작, 끝(미만), num=데이터 개수, endpoint=True, retstop=False)\n",
    "시작과 끝까지 데이터 개수만큼 등차수열로 생성하고 반환함\n",
    "logspace(시작, 끝(미만), num=데이터 개수, endpoint=True, base=10.0)\n",
    "밑이 10인 로그의 값으로 균등 데이터 개수만큼 나누어 생성하고 반환함\n",
    "\"\"\"\n",
    "b = [[1,2,3,4],[5,6,7,8]]\n",
    "b = np.array(b) \n",
    "c = np.array((1,3,5,7))\n",
    "#파이썬의 list와 tuple을 array로 바꿀 수 있음.\n",
    "aprint(a)\n",
    "aprint(b)\n",
    "aprint(c)"
   ]
  },
  {
   "cell_type": "code",
   "execution_count": 7,
   "metadata": {},
   "outputs": [
    {
     "name": "stdout",
     "output_type": "stream",
     "text": [
      "type:<class 'numpy.ndarray'>, dtype:float64\n",
      "shape:(3, 4), ndim:2, size:12\n",
      "[[ 0.  1.  2.  3.]\n",
      " [ 4.  5.  6.  7.]\n",
      " [ 8.  9. 10. 11.]]\n"
     ]
    }
   ],
   "source": [
    "#생성된 배열이나 배열을 생성할 때 배열의 모양과 데이터 타입을 바꿀 수 있음.\n",
    "a = np.arange(12,dtype = float).reshape((3,4))\n",
    "aprint(a)"
   ]
  },
  {
   "cell_type": "code",
   "execution_count": 8,
   "metadata": {},
   "outputs": [
    {
     "name": "stdout",
     "output_type": "stream",
     "text": [
      "type:<class 'numpy.ndarray'>, dtype:float64\n",
      "shape:(3, 3), ndim:2, size:9\n",
      "[[0. 0. 0.]\n",
      " [0. 0. 0.]\n",
      " [0. 0. 0.]]\n",
      "type:<class 'numpy.ndarray'>, dtype:float64\n",
      "shape:(3, 4), ndim:2, size:12\n",
      "[[0. 0. 0. 0.]\n",
      " [0. 0. 0. 0.]\n",
      " [0. 0. 0. 0.]]\n",
      "type:<class 'numpy.ndarray'>, dtype:float64\n",
      "shape:(3, 2), ndim:2, size:6\n",
      "[[1. 1.]\n",
      " [1. 1.]\n",
      " [1. 1.]]\n",
      "type:<class 'numpy.ndarray'>, dtype:float64\n",
      "shape:(3, 4), ndim:2, size:12\n",
      "[[1. 1. 1. 1.]\n",
      " [1. 1. 1. 1.]\n",
      " [1. 1. 1. 1.]]\n",
      "type:<class 'numpy.ndarray'>, dtype:int32\n",
      "shape:(3, 4), ndim:2, size:12\n",
      "[[2 2 2 2]\n",
      " [2 2 2 2]\n",
      " [2 2 2 2]]\n"
     ]
    },
    {
     "data": {
      "text/plain": [
       "array([[1., 1., 1.],\n",
       "       [1., 1., 1.]])"
      ]
     },
     "execution_count": 8,
     "metadata": {},
     "output_type": "execute_result"
    }
   ],
   "source": [
    "x = np.zeros((3,3)) #0으로 채워진 행렬을 만든다.\n",
    "aprint(x)\n",
    "x = np.zeros_like(a)  #주어진 행렬의 모양과 똑같은 크기의 0으로 채워진 행렬을 만든다.\n",
    "aprint(x)\n",
    "x = np.ones((3,2)) #1로 채워진 행렬을 만든다.\n",
    "aprint(x)\n",
    "x = np.ones_like(a)  #주어진 행렬의 모양과 똑같은 크기의 1로 채워진 행렬을 만든다.\n",
    "aprint(x)\n",
    "x = np.full((3,4),2) #주어진 원소로 채워진 행렬을 만든다.\n",
    "aprint(x)\n",
    "x = np.empty((2,3), dtype = \"f8\") #임의의 원소로 채워진 행렬을 만든다.\n",
    "x"
   ]
  },
  {
   "cell_type": "markdown",
   "metadata": {},
   "source": [
    "#### 배열의 인덱싱, 슬라이싱"
   ]
  },
  {
   "cell_type": "code",
   "execution_count": 51,
   "metadata": {},
   "outputs": [
    {
     "name": "stdout",
     "output_type": "stream",
     "text": [
      "[[ 0  1  2  3  4  5]\n",
      " [ 6  7  8  9 10 11]\n",
      " [12 13 14 15 16 17]] \n",
      "\n",
      "a[2,4]= 16\n",
      "a[-2,-1]= 11\n",
      "\n",
      " a[1]\n",
      " [ 6  7  8  9 10 11]\n",
      "\n",
      " a[:,3]\n",
      " [ 3  9 15]\n",
      "\n",
      " a[:2,2:5]\n",
      " [[ 2  3  4]\n",
      " [ 8  9 10]]\n",
      "\n",
      " a[-1, 1:6:2]\n",
      " [ 7  9 11]\n",
      "\n",
      " [[0 1]\n",
      " [6 7]]\n",
      "\n",
      " [ 0  2  4  6  8 10 12 14 16]\n"
     ]
    }
   ],
   "source": [
    "a = np.arange(18).reshape((3,6))\n",
    "print(a,\"\\n\")\n",
    "\n",
    "#인덱싱\n",
    "print(\"a[2,4]=\",a[2,4]) #(2,4)위치 출력하기 셋째 행의 다섯 번째 열 값을 출력한다. a[2][4]과 같다.\n",
    "#가로줄이 행(row)이고 세로줄이 열(column)이다.\n",
    "print(\"a[-2,-1]=\",a[-2,-1]) # 마이너스 인덱스가 가능하다 뒤에서부터 센다.\n",
    "print(\"\\n a[1]\\n\", a[1]) #2행 출력하기\n",
    "\n",
    "\n",
    "#슬라이싱\n",
    "print(\"\\n a[:,3]\\n\", a[:,3]) #3열 출력하기 시작:끝(미만)이고 :은 전체이다.\n",
    "print(\"\\n a[:2,2:5]\\n\", a[:2,2:5]) #1~2행, 2~4열 출력하기\n",
    "print(\"\\n a[-1, 1:6:2]\\n\", a[1, 1:6:2]) #마지막행에서 2~5열을 2개 간격으로 출력한다.\n",
    "\n",
    "#index Array boolean 인덱스 배열로 배열의 값 불러오기\n",
    "b = [True,True,False]\n",
    "print(\"\\n\", a[b,:2])\n",
    "print(\"\\n\",a[a%2 ==0])"
   ]
  },
  {
   "cell_type": "code",
   "execution_count": null,
   "metadata": {},
   "outputs": [],
   "source": []
  }
 ],
 "metadata": {
  "kernelspec": {
   "display_name": "Python 3",
   "language": "python",
   "name": "python3"
  },
  "language_info": {
   "codemirror_mode": {
    "name": "ipython",
    "version": 3
   },
   "file_extension": ".py",
   "mimetype": "text/x-python",
   "name": "python",
   "nbconvert_exporter": "python",
   "pygments_lexer": "ipython3",
   "version": "3.7.3"
  }
 },
 "nbformat": 4,
 "nbformat_minor": 2
}
